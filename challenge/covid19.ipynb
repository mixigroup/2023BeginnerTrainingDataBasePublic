{
  "cells": [
    {
      "cell_type": "code",
      "execution_count": null,
      "metadata": {
        "colab": {
          "base_uri": "https://localhost:8080/"
        },
        "id": "bDYCCehzZTRX",
        "outputId": "c01d9340-fa59-4daa-8d89-0713ab2bba24"
      },
      "outputs": [
        {
          "name": "stdout",
          "output_type": "stream",
          "text": [
            "Updated property [core/project].\n"
          ]
        }
      ],
      "source": [
        "from google.colab.auth import authenticate_user\n",
        "authenticate_user()\n",
        "\n",
        "import google.cloud.bigquery.magics\n",
        "google.cloud.bigquery.magics.context.project = 'your_project_id'\n",
        "\n",
        "! gcloud config set project { google.cloud.bigquery.magics.context.project }"
      ]
    },
    {
      "attachments": {},
      "cell_type": "markdown",
      "metadata": {
        "id": "NSguYsgRd9Ei"
      },
      "source": [
        "# COVID19国内感染者数オープンデータ\n",
        "\n",
        "厚生労働省の公開する、新型コロナウイルス感染症オープンデータ ( https://www.mhlw.go.jp/stf/covid-19/open-data.html )を用いて集計を行います。\n",
        "\n",
        "- covid19_jp : 新規陽性者数の日別推移 を取り込んだテーブルです。\n",
        "  - Date 日付\n",
        "  - ALL 全国陽性者数\n",
        "  - Hokkaido 北海道の陽性者数\n",
        "  - ︙\n",
        "  - Okinawa 沖縄の陽性者数\n",
        "- covid19_jp_unpivotted 上のテーブルをunpivotしたテーブルです。ただし、0人の行は削除しています。\n",
        "  - date 日付\n",
        "  - prefecture 都道府県名（ローマ字）\n",
        "  - new_cases 陽性者数\n",
        "\n",
        "また、次のテーブルを使用することができます\n",
        "- japan_population: 日本の都道府県別人口（令和二年国勢調査）\n",
        "  - prefecture 都道府県名（ローマ字）\n",
        "  - population 人口"
      ]
    },
    {
      "attachments": {},
      "cell_type": "markdown",
      "metadata": {},
      "source": [
        "## （一般公開にあたっての追記）オープンデータをBigQueryに取り込む方法\n",
        "\n",
        "実際の研修では予め講師がテーブルを作成しましたが、一般公開版ではみなさまにテーブルの用意をしていただく必要があります。\n",
        "\n",
        "1. https://www.mhlw.go.jp/stf/covid-19/open-data.html から「新規陽性者数の推移（日別）」をダウンロードします。\n",
        "2. UTF-8(BOMあり)になっているので、BOMを消します。\n",
        "3. BigQueryにデータセットを作成します。\n",
        "4. BigQueryにアップロードします。\n",
        "5. 都道府県マスタ（令和二年国勢調査より作成）のCSVをダウンロードします。\n",
        "6. おなじくBigQueryにアップロードします。\n",
        "\n",
        "以下のスクリプトを実行すると、以上の手順が行われます。（your_project_id は 書き換えて実行してください。）"
      ]
    },
    {
      "cell_type": "code",
      "execution_count": null,
      "metadata": {},
      "outputs": [],
      "source": [
        "!wget https://covid19.mhlw.go.jp/public/opendata/newly_confirmed_cases_daily.csv\n",
        "!LC_ALL=C sed -e $'1s/^\\xef\\xbb\\xbf//' newly_confirmed_cases_daily.csv > covid19.csv\n",
        "!bq mk --project_id your_project_id --dataset db_tutorial_2023\n",
        "!bq load --replace --autodetect --source_format=CSV --project_id your_project_id db_tutorial_2023.covid19_jp ./covid19.csv\n",
        "!wget -O pref.csv https://raw.githubusercontent.com/mixigroup/2023BeginnerTrainingDataBasePublic/master/challenge/pref.csv\n",
        "!bq load --replace --autodetect --source_format=CSV --project_id your_project_id db_tutorial_2023.japan_population ./pref.csv\n"
      ]
    },
    {
      "attachments": {},
      "cell_type": "markdown",
      "metadata": {
        "id": "3BIrN2JNvkgq"
      },
      "source": [
        "次に、covid19_jp_unpivottedテーブルを作成します。下のセルを実行すると作成できます。\n",
        "\n",
        "参考: https://cloud.google.com/bigquery/docs/reference/standard-sql/query-syntax?hl=ja#unpivot_operator\n",
        "\n"
      ]
    },
    {
      "cell_type": "code",
      "execution_count": null,
      "metadata": {},
      "outputs": [],
      "source": [
        "%%bigquery\n",
        "CREATE OR REPLACE TABLE db_tutorial_2023.covid19_jp_unpivotted AS\n",
        "\n",
        "select * from (\n",
        "SELECT date, prefecture, new_cases FROM `db_tutorial_2023.covid19_jp` \n",
        "UNPIVOT(new_cases for prefecture in (Hokkaido,Aomori,Iwate,Miyagi,Akita,Yamagata,Fukushima,Ibaraki,Tochigi,Gunma,Saitama,Chiba,Tokyo,Kanagawa,Niigata,Toyama,Ishikawa,Fukui,Yamanashi,Nagano,Gifu,Shizuoka,Aichi,Mie,Shiga,Kyoto,Osaka,Hyogo,Nara,Wakayama,Tottori,Shimane,Okayama,Hiroshima,Yamaguchi,Tokushima,Kagawa,Ehime,Kochi,Fukuoka,Saga,Nagasaki,Kumamoto,Oita,Miyazaki,Kagoshima,Okinawa))\n",
        ")\n",
        "where new_cases > 0"
      ]
    },
    {
      "attachments": {},
      "cell_type": "markdown",
      "metadata": {},
      "source": [
        "以上で準備は終わりです。お疲れさまでした。"
      ]
    },
    {
      "attachments": {},
      "cell_type": "markdown",
      "metadata": {
        "id": "nqCv78PTgG7n"
      },
      "source": [
        "## 問1\n",
        "好きな日付（2020年9月〜2023年3月、以後省略）で新規感染者数が多い順に３つ都道府県を挙げてみましょう。\n",
        "\n",
        "### 期待する出力フォーマット\n",
        "\n",
        "|prefecture| new_cases|\n",
        "|---:|---:|\n",
        "|Tokyo| 12345|\n",
        "|Osaka| 9876|\n",
        "|Kanagawa| 5432|"
      ]
    },
    {
      "cell_type": "code",
      "execution_count": null,
      "metadata": {
        "id": "8Wy0xeuDLrVa"
      },
      "outputs": [],
      "source": [
        "%%bigquery\n",
        "\n",
        "-- ここにクエリを書く"
      ]
    },
    {
      "attachments": {},
      "cell_type": "markdown",
      "metadata": {
        "id": "0qOw7G2uhdp0"
      },
      "source": [
        "## 問2\n",
        "\n",
        "好きな日付で、人口あたりの新規感染者数が多い順に３つ都道府県を挙げてみましょう\n",
        "\n",
        "Tips: 最近のアップデートでカラム名に一部のマルチバイト文字が対応したので、試してみてもよいでしょう（まだPreview段階の機能なので注意）。\n",
        "https://cloud.google.com/bigquery/docs/release-notes#March_22_2023 \n",
        "\n",
        "### 期待する出力フォーマット\n",
        "\n",
        "|prefecture| 百万人あたりの感染者数|\n",
        "|---:|---:|\n",
        "|Tokushima| 789|\n",
        "|Fukuoka| 567|\n",
        "|Iwate| 321|"
      ]
    },
    {
      "attachments": {},
      "cell_type": "markdown",
      "metadata": {
        "id": "a7lN9rRb6U-t"
      },
      "source": [
        "## 問3\n",
        "\n",
        "2021年4月1日〜30日において、新規感染者数が100人を超えていた都道府県はいくつあったか、日付別に出力しましょう。\n",
        "\n",
        "### 期待する出力フォーマット\n",
        "\n",
        "|date| pref_num|\n",
        "|---:|---:|\n",
        "|2021-04-01| 7|\n",
        "|2021-04-02| 9|\n",
        "|︙|︙|\n"
      ]
    },
    {
      "attachments": {},
      "cell_type": "markdown",
      "metadata": {
        "id": "5A99kzx3lmgH"
      },
      "source": [
        "## 問4\n",
        "好きな日付・都道府県を選びます。\n",
        "\n",
        "その都道府県が、その日何番目に新規感染者数が多い都道府県だったか、調べてみましょう。\n",
        "\n",
        "出力は1レコードにしてください。\n",
        "\n",
        "ヒント: https://cloud.google.com/bigquery/docs/reference/standard-sql/numbering_functions?hl=ja#rank\n",
        "\n",
        "### 期待する出力フォーマット\n",
        "\n",
        "|prefecture| new_cases| rank_number|\n",
        "|---:|---:|---:|\n",
        "|Ishikawa| 2085| 27|\n"
      ]
    },
    {
      "attachments": {},
      "cell_type": "markdown",
      "metadata": {
        "id": "-okiH27-nJsm"
      },
      "source": [
        "## 問5\n",
        "\n",
        "全期間（2020年1月〜）で、初めて感染者が出た日が一番遅かった都道府県はどこか、またその日付を調べてみましょう。\n",
        "\n",
        "### 期待する出力フォーマット\n",
        "\n",
        "|prefecture| first_date|\n",
        "|---:|---:|\n",
        "|Xxxxx| 2020-xx-xx|"
      ]
    },
    {
      "attachments": {},
      "cell_type": "markdown",
      "metadata": {
        "id": "beGZ__4y4m6t"
      },
      "source": [
        "## 問6\n",
        "\n",
        "好きな1ヶ月を選びます。各日付において、その日3番目に感染者数が多い県を調べてみましょう。\n",
        "\n",
        "### 期待する出力フォーマット\n",
        "\n",
        "|date| pref_num|\n",
        "|---:|---:|\n",
        "|2022-10-01| Kanagawa|\n",
        "|2022-10-02| Kanagawa|\n",
        "|︙|︙|"
      ]
    },
    {
      "attachments": {},
      "cell_type": "markdown",
      "metadata": {
        "id": "35wqxk7XutxW"
      },
      "source": [
        "## 問7\n",
        "\n",
        "好きな都道府県の1ヶ月分の新規感染者数に、昨日より増えたかを表す列を追加してみましょう。\n",
        "\n",
        "### 期待する出力フォーマット\n",
        "\n",
        "|date| new_cases| is_incresed|\n",
        "|---:|---:|---:|\n",
        "|2023-01-01| 1378| False|\n",
        "|2023-01-02| 1174| False|\n",
        "|2023-01-03| 1318| True|\n"
      ]
    },
    {
      "attachments": {},
      "cell_type": "markdown",
      "metadata": {
        "id": "v8IJG9uCymnE"
      },
      "source": [
        "## 問8 (少し難しい)\n",
        "\n",
        "前問で作成した結果を用いて、新規感染者数前日比増の連続日数（例: 3日連続増加）の、その期間での最大値を集計してください。\n",
        "\n",
        "### 期待する出力フォーマット\n",
        "\n",
        "| streak|\n",
        "|---:|\n",
        "|4|\n"
      ]
    },
    {
      "attachments": {},
      "cell_type": "markdown",
      "metadata": {
        "id": "1sgb2OF_zOlJ"
      },
      "source": [
        "### ヒント:\n",
        "- Trueが連続する区間にラベル付をして、同じラベルがいくつあるか数えます。\n",
        "- 連続区間のラベルは、True/Falseを区別しない通し番号と、Trueのときだけ増える番号の差を使います。\n",
        "\n",
        "\n",
        "| 日付 | True/False | 通し番号 | True番号 | 差 |\n",
        "|---:|---:|---:|---:|---:|\n",
        "|2023-01-01|True|1|1| 0|\n",
        "|2023-01-02|False|2|||\n",
        "|2023-01-03|True|3|2|1|\n",
        "|2023-01-04|True|4|3|1|\n",
        "|2023-01-05|True|5|4|1|\n",
        "|2023-01-06|False|6|"
      ]
    },
    {
      "attachments": {},
      "cell_type": "markdown",
      "metadata": {
        "id": "1cxLJDNl-V-2"
      },
      "source": [
        "## 問9\n",
        "\n",
        "2021年2月14日、新規感染者数が**少ない順**に10位（タイ含む）までを挙げてみましょう\n",
        "\n",
        "この日は新規感染者数が0の県があることに注意して下さい"
      ]
    },
    {
      "attachments": {},
      "cell_type": "markdown",
      "metadata": {
        "id": "vwhjMTL6FOQi"
      },
      "source": [
        "## 問10\n",
        "\n",
        "2021年、毎日（365日とも）新規感染者数が1以上だった都道府県を調べてみましょう。\n"
      ]
    },
    {
      "attachments": {},
      "cell_type": "markdown",
      "metadata": {
        "id": "tkuDg0YH8WVY"
      },
      "source": [
        "## 問11\n",
        "北海道、東京都、神奈川県、大阪府**以外**の好きな府県を選んでください。\n",
        "\n",
        "2021年、1番新規感染者数が多かった7日間、少なかった7日間を調べてみましょう。\n",
        "\n",
        "(1) covid19_jpを用いて書いてみましょう。\n",
        "\n",
        "(2) covid19_jp_unpivotted を用いて書いてみましょう。\n",
        "  - ヒント: https://cloud.google.com/bigquery/docs/reference/standard-sql/array_functions?hl=ja#generate_date_array\n",
        "  - https://cloud.google.com/bigquery/docs/reference/standard-sql/query-syntax?hl=ja#unnest_operator\n",
        "\n",
        "### 期待する出力フォーマット\n",
        "\n",
        "| start_date| end_date| sum_7days|\n",
        "|---:|---:|---:|\n",
        "|2021-11-20| 2021-11-27| 0|\n",
        "|2021-11-21| 2021-11-28| 0|\n",
        "|2021-08-17| 2021-08-24| 888|"
      ]
    },
    {
      "attachments": {},
      "cell_type": "markdown",
      "metadata": {},
      "source": [
        "## 問12\n",
        "\n",
        "好きな一ヶ月を選びます。都道府県ごとの10万人あたりの感染者数の毎日の中央値を出してください。\n",
        "\n",
        "### 期待するフォーマット\n",
        "|date| median|\n",
        "|---:| ---:|\n",
        "|2020-01-01| 12|\n",
        "|2020-01-02| 14|\n",
        "|︙|︙|\n"
      ]
    }
  ],
  "metadata": {
    "colab": {
      "provenance": []
    },
    "kernelspec": {
      "display_name": "Python 3",
      "name": "python3"
    },
    "language_info": {
      "name": "python"
    }
  },
  "nbformat": 4,
  "nbformat_minor": 0
}
